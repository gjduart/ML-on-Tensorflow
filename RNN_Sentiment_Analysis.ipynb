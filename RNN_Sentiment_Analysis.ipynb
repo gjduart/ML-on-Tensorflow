{
  "nbformat": 4,
  "nbformat_minor": 0,
  "metadata": {
    "colab": {
      "name": "RNN_Sentiment Analysis.ipynb",
      "provenance": [],
      "authorship_tag": "ABX9TyNkK8CRYhIIC5uq9ukfq9C3",
      "include_colab_link": true
    },
    "kernelspec": {
      "name": "python3",
      "display_name": "Python 3"
    },
    "language_info": {
      "name": "python"
    }
  },
  "cells": [
    {
      "cell_type": "markdown",
      "metadata": {
        "id": "view-in-github",
        "colab_type": "text"
      },
      "source": [
        "<a href=\"https://colab.research.google.com/github/gjduart/ML-on-Tensorflow/blob/main/RNN_Sentiment_Analysis.ipynb\" target=\"_parent\"><img src=\"https://colab.research.google.com/assets/colab-badge.svg\" alt=\"Open In Colab\"/></a>"
      ]
    },
    {
      "cell_type": "code",
      "execution_count": null,
      "metadata": {
        "id": "nUFCu1ZYX2dn"
      },
      "outputs": [],
      "source": [
        "import os\n",
        "import numpy as np\n",
        "import tensorflow as tf\n",
        "from tensorflow import keras\n",
        "from keras.datasets import imdb\n",
        "from keras.preprocessing import sequence"
      ]
    },
    {
      "cell_type": "code",
      "source": [
        "VOCAB_SIZE = 88584\n",
        "MAXLEN = 250\n",
        "BATCH_SIZE = 64"
      ],
      "metadata": {
        "id": "GgzwA2XwY_jx"
      },
      "execution_count": null,
      "outputs": []
    },
    {
      "cell_type": "code",
      "source": [
        "(train_data, train_labels),(test_data, test_labels) = imdb.load_data(num_words=VOCAB_SIZE)"
      ],
      "metadata": {
        "colab": {
          "base_uri": "https://localhost:8080/"
        },
        "id": "NT4qcXGrZJ_o",
        "outputId": "1c2de1fa-4f5a-4d91-f268-5248691d9136"
      },
      "execution_count": null,
      "outputs": [
        {
          "output_type": "stream",
          "name": "stdout",
          "text": [
            "Downloading data from https://storage.googleapis.com/tensorflow/tf-keras-datasets/imdb.npz\n",
            "17465344/17464789 [==============================] - 0s 0us/step\n",
            "17473536/17464789 [==============================] - 0s 0us/step\n"
          ]
        }
      ]
    },
    {
      "cell_type": "code",
      "source": [
        "len(train_data[0])"
      ],
      "metadata": {
        "colab": {
          "base_uri": "https://localhost:8080/"
        },
        "id": "v8Jc3shcZaXB",
        "outputId": "50570599-0d17-4bec-a283-dcb3565c6ca0"
      },
      "execution_count": null,
      "outputs": [
        {
          "output_type": "execute_result",
          "data": {
            "text/plain": [
              "218"
            ]
          },
          "metadata": {},
          "execution_count": 5
        }
      ]
    },
    {
      "cell_type": "code",
      "source": [
        "train_data = sequence.pad_sequences(train_data, MAXLEN)\n",
        "test_data = sequence.pad_sequences(test_data, MAXLEN)"
      ],
      "metadata": {
        "id": "nFDScIBQZjnQ"
      },
      "execution_count": null,
      "outputs": []
    },
    {
      "cell_type": "code",
      "source": [
        "model = keras.Sequential([\n",
        "    keras.layers.Embedding(VOCAB_SIZE,32),\n",
        "    keras.layers.LSTM(32),\n",
        "    keras.layers.Dense(1, activation=\"sigmoid\")\n",
        "])"
      ],
      "metadata": {
        "id": "NgEZ0mNGZ3MW"
      },
      "execution_count": null,
      "outputs": []
    },
    {
      "cell_type": "code",
      "source": [
        "model.summary()"
      ],
      "metadata": {
        "colab": {
          "base_uri": "https://localhost:8080/"
        },
        "id": "Oea4O_nDaa-2",
        "outputId": "6045cb23-14d7-4d98-e91d-4a370986b9e4"
      },
      "execution_count": null,
      "outputs": [
        {
          "output_type": "stream",
          "name": "stdout",
          "text": [
            "Model: \"sequential\"\n",
            "_________________________________________________________________\n",
            " Layer (type)                Output Shape              Param #   \n",
            "=================================================================\n",
            " embedding (Embedding)       (None, None, 32)          2834688   \n",
            "                                                                 \n",
            " lstm (LSTM)                 (None, 32)                8320      \n",
            "                                                                 \n",
            " dense (Dense)               (None, 1)                 33        \n",
            "                                                                 \n",
            "=================================================================\n",
            "Total params: 2,843,041\n",
            "Trainable params: 2,843,041\n",
            "Non-trainable params: 0\n",
            "_________________________________________________________________\n"
          ]
        }
      ]
    },
    {
      "cell_type": "code",
      "source": [
        "model.compile(optimizer='adam', loss=keras.losses.BinaryCrossentropy(from_logits=True), metrics=['accuracy'])"
      ],
      "metadata": {
        "id": "aDF27TOpacBH"
      },
      "execution_count": null,
      "outputs": []
    },
    {
      "cell_type": "code",
      "source": [
        "history = model.fit(train_data,train_labels, epochs=10, validation_split=.2)"
      ],
      "metadata": {
        "colab": {
          "base_uri": "https://localhost:8080/"
        },
        "id": "gHYDbLR0ayJ4",
        "outputId": "64e5798b-54cb-4dda-8529-70a347bab165"
      },
      "execution_count": null,
      "outputs": [
        {
          "output_type": "stream",
          "name": "stdout",
          "text": [
            "Epoch 1/10\n"
          ]
        },
        {
          "output_type": "stream",
          "name": "stderr",
          "text": [
            "/usr/local/lib/python3.7/dist-packages/tensorflow/python/util/dispatch.py:1096: UserWarning: \"`binary_crossentropy` received `from_logits=True`, but the `output` argument was produced by a sigmoid or softmax activation and thus does not represent logits. Was this intended?\"\n",
            "  return dispatch_target(*args, **kwargs)\n"
          ]
        },
        {
          "output_type": "stream",
          "name": "stdout",
          "text": [
            "625/625 [==============================] - 74s 116ms/step - loss: 0.4012 - accuracy: 0.8166 - val_loss: 0.3252 - val_accuracy: 0.8640\n",
            "Epoch 2/10\n",
            "625/625 [==============================] - 74s 118ms/step - loss: 0.1963 - accuracy: 0.9274 - val_loss: 0.3052 - val_accuracy: 0.8804\n",
            "Epoch 3/10\n",
            "625/625 [==============================] - 73s 117ms/step - loss: 0.0942 - accuracy: 0.9697 - val_loss: 0.3733 - val_accuracy: 0.8664\n",
            "Epoch 4/10\n",
            "625/625 [==============================] - 77s 123ms/step - loss: 0.0641 - accuracy: 0.9801 - val_loss: 0.4533 - val_accuracy: 0.8640\n",
            "Epoch 5/10\n",
            "625/625 [==============================] - 73s 117ms/step - loss: 0.0722 - accuracy: 0.9754 - val_loss: 0.4557 - val_accuracy: 0.8556\n",
            "Epoch 6/10\n",
            "625/625 [==============================] - 73s 117ms/step - loss: 0.0317 - accuracy: 0.9910 - val_loss: 0.5274 - val_accuracy: 0.8682\n",
            "Epoch 7/10\n",
            "625/625 [==============================] - 72s 116ms/step - loss: 0.0170 - accuracy: 0.9952 - val_loss: 0.5842 - val_accuracy: 0.8610\n",
            "Epoch 8/10\n",
            "625/625 [==============================] - 72s 114ms/step - loss: 0.0332 - accuracy: 0.9895 - val_loss: 0.6083 - val_accuracy: 0.8592\n",
            "Epoch 9/10\n",
            "625/625 [==============================] - 71s 114ms/step - loss: 0.0199 - accuracy: 0.9942 - val_loss: 0.6917 - val_accuracy: 0.8648\n",
            "Epoch 10/10\n",
            "625/625 [==============================] - 71s 114ms/step - loss: 0.0160 - accuracy: 0.9948 - val_loss: 0.7152 - val_accuracy: 0.8644\n"
          ]
        }
      ]
    },
    {
      "cell_type": "code",
      "source": [
        "word_index = imdb.get_word_index()\n",
        "\n",
        "def encode_text(text):\n",
        "  tokens = keras.preprocessing.text.text_to_word_sequence(text)\n",
        "  tokens = [word_index[word] if word in word_index else 0 for word in tokens]\n",
        "  return sequence.pad_sequences([tokens], MAXLEN)[0]"
      ],
      "metadata": {
        "colab": {
          "base_uri": "https://localhost:8080/"
        },
        "id": "7xHanM1-a63n",
        "outputId": "b2b6db96-8ec8-4932-fcac-60debe31bfe4"
      },
      "execution_count": null,
      "outputs": [
        {
          "output_type": "stream",
          "name": "stdout",
          "text": [
            "Downloading data from https://storage.googleapis.com/tensorflow/tf-keras-datasets/imdb_word_index.json\n",
            "1646592/1641221 [==============================] - 0s 0us/step\n",
            "1654784/1641221 [==============================] - 0s 0us/step\n"
          ]
        }
      ]
    },
    {
      "cell_type": "code",
      "source": [
        "text = 'that movies was just amazing, so amazing'\n",
        "encoded_text = encode_text(text)"
      ],
      "metadata": {
        "id": "ETpPLN6-fcgI"
      },
      "execution_count": null,
      "outputs": []
    },
    {
      "cell_type": "code",
      "source": [
        "reverse_word_index = {\n",
        "    value:key for (key,value) in word_index.items()\n",
        "}"
      ],
      "metadata": {
        "id": "ZWG8LJfafpyA"
      },
      "execution_count": null,
      "outputs": []
    },
    {
      "cell_type": "code",
      "source": [
        "def decode_integers(integers):\n",
        "  PAD = 0\n",
        "  text = \"\"\n",
        "  for num in integers:\n",
        "    if num!=PAD:\n",
        "      text+= reverse_word_index[num] + \" \"\n",
        "\n",
        "  return text[:-1]"
      ],
      "metadata": {
        "id": "Thw4Y8CmgEzR"
      },
      "execution_count": null,
      "outputs": []
    },
    {
      "cell_type": "code",
      "source": [
        "decode_integers(encoded_text)"
      ],
      "metadata": {
        "colab": {
          "base_uri": "https://localhost:8080/",
          "height": 35
        },
        "id": "ALGS1VHzgmfH",
        "outputId": "ce1bed28-f773-432f-f4ba-d19dccf4d70a"
      },
      "execution_count": null,
      "outputs": [
        {
          "output_type": "execute_result",
          "data": {
            "application/vnd.google.colaboratory.intrinsic+json": {
              "type": "string"
            },
            "text/plain": [
              "'that movies was just amazing so amazing'"
            ]
          },
          "metadata": {},
          "execution_count": 20
        }
      ]
    },
    {
      "cell_type": "code",
      "source": [
        "def predict(text):\n",
        "  encoded_text = encode_text(text)\n",
        "  pred = np.zeros((1,250))\n",
        "  pred[0] = encoded_text\n",
        "  result = model.predict(pred)\n",
        "  print(result[0])"
      ],
      "metadata": {
        "id": "JeND5cE7gqxY"
      },
      "execution_count": null,
      "outputs": []
    },
    {
      "cell_type": "code",
      "source": [
        "positive_review = 'The movie was awesome! I really loved it and would watch it again because it was amazingly great'\n",
        "predict(positive_review)"
      ],
      "metadata": {
        "colab": {
          "base_uri": "https://localhost:8080/"
        },
        "id": "IHXXkZSOmo-i",
        "outputId": "bd55d6ae-472a-481b-9f26-a3f862ab106b"
      },
      "execution_count": null,
      "outputs": [
        {
          "output_type": "stream",
          "name": "stdout",
          "text": [
            "[0.9379649]\n"
          ]
        }
      ]
    },
    {
      "cell_type": "code",
      "source": [
        "negative_review = \"I hated this movie, I hated it and wouldn't watch it again. Was one of the wrost thing I've ever watched\"\n",
        "predict(negative_review)"
      ],
      "metadata": {
        "colab": {
          "base_uri": "https://localhost:8080/"
        },
        "id": "0P0GiQXkm-mh",
        "outputId": "50ac3211-c687-4d8b-8e2c-e3d9679f42af"
      },
      "execution_count": null,
      "outputs": [
        {
          "output_type": "stream",
          "name": "stdout",
          "text": [
            "[0.02568144]\n"
          ]
        }
      ]
    }
  ]
}