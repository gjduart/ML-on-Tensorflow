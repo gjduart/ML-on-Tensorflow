{
  "nbformat": 4,
  "nbformat_minor": 0,
  "metadata": {
    "colab": {
      "name": "TF-HiddenMarkov.ipynb",
      "provenance": [],
      "collapsed_sections": [],
      "authorship_tag": "ABX9TyMPs6DBjHE/fojRu7upeCM+",
      "include_colab_link": true
    },
    "kernelspec": {
      "name": "python3",
      "display_name": "Python 3"
    },
    "language_info": {
      "name": "python"
    }
  },
  "cells": [
    {
      "cell_type": "markdown",
      "metadata": {
        "id": "view-in-github",
        "colab_type": "text"
      },
      "source": [
        "<a href=\"https://colab.research.google.com/github/gjduart/ML-on-Tensorflow/blob/main/TF_HiddenMarkov.ipynb\" target=\"_parent\"><img src=\"https://colab.research.google.com/assets/colab-badge.svg\" alt=\"Open In Colab\"/></a>"
      ]
    },
    {
      "cell_type": "code",
      "execution_count": null,
      "metadata": {
        "id": "8haokwAZcq3U"
      },
      "outputs": [],
      "source": [
        "import tensorflow as tf\n",
        "import tensorflow_probability as tfp"
      ]
    },
    {
      "cell_type": "code",
      "source": [
        "tfd = tfp.distributions"
      ],
      "metadata": {
        "id": "R0pVSHRDcvtH"
      },
      "execution_count": null,
      "outputs": []
    },
    {
      "cell_type": "code",
      "source": [
        "initial_distribution = tfd.Categorical(probs=[0.8,0.2])\n",
        "transition_distribution = tfd.Categorical(probs =[[0.7,0.3],\n",
        "                                                  [0.2,0.8]])\n",
        "observation_distribution = tfd.Normal(loc=[0.,15.], scale=[5.,10.])"
      ],
      "metadata": {
        "id": "esQboNA6c3hW"
      },
      "execution_count": null,
      "outputs": []
    },
    {
      "cell_type": "code",
      "source": [
        "model = tfd.HiddenMarkovModel(initial_distribution=initial_distribution,\n",
        "                              transition_distribution=transition_distribution,\n",
        "                              observation_distribution=observation_distribution,\n",
        "\n",
        "                              num_steps=7)"
      ],
      "metadata": {
        "id": "udd2l7MCdPom"
      },
      "execution_count": null,
      "outputs": []
    },
    {
      "cell_type": "code",
      "source": [
        "mean = model.mean()"
      ],
      "metadata": {
        "id": "hF8O4bAyeBLm"
      },
      "execution_count": null,
      "outputs": []
    },
    {
      "cell_type": "code",
      "source": [
        "with tf.compat.v1.Session() as sess:\n",
        "  print(mean.numpy())"
      ],
      "metadata": {
        "colab": {
          "base_uri": "https://localhost:8080/"
        },
        "id": "KA4Br3AMeo4-",
        "outputId": "fe241943-699d-4612-9a93-a57a09effb9a"
      },
      "execution_count": null,
      "outputs": [
        {
          "output_type": "stream",
          "name": "stdout",
          "text": [
            "[2.9999998 5.9999995 7.4999995 8.25      8.625001  8.812501  8.90625  ]\n"
          ]
        }
      ]
    },
    {
      "cell_type": "code",
      "source": [
        ""
      ],
      "metadata": {
        "id": "dCwWs-Vpe1Nn"
      },
      "execution_count": null,
      "outputs": []
    }
  ]
}